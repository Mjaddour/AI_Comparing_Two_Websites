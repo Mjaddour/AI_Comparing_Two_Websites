{
 "cells": [
  {
   "cell_type": "code",
   "execution_count": 1,
   "id": "93d4d247-5ba1-45bc-8b81-b4c459da4cca",
   "metadata": {},
   "outputs": [],
   "source": [
    "# import project\n",
    "\n",
    "import requests\n",
    "from bs4 import BeautifulSoup\n",
    "from IPython.display import Markdown, display\n",
    "import ollama\n"
   ]
  },
  {
   "cell_type": "code",
   "execution_count": 2,
   "id": "510c56af-9417-4ce1-97ff-248800e850b1",
   "metadata": {},
   "outputs": [],
   "source": [
    "MODEL = \"llama3.2\"\n",
    "\n",
    "# class for the website\n",
    "class Website:\n",
    "\n",
    "    def __init__(self, url):\n",
    "        \"\"\"\n",
    "        Create this Website object from the given url using the BeautifulSoup library\n",
    "        \"\"\"\n",
    "        self.url = url\n",
    "        response = requests.get(url)\n",
    "        soup = BeautifulSoup(response.content, 'html.parser')\n",
    "        self.title = soup.title.string if soup.title else \"No title found\"\n",
    "        for irrelevant in soup.body([\"script\", \"style\", \"img\", \"input\"]):\n",
    "            irrelevant.decompose()\n",
    "        self.text = soup.body.get_text(separator=\"\\n\", strip=True)\n",
    "        "
   ]
  },
  {
   "cell_type": "code",
   "execution_count": 3,
   "id": "bc8b296f-36fa-415c-a95e-e46a8f44cad6",
   "metadata": {},
   "outputs": [],
   "source": [
    "system_prompt = \"You are an assistant that analyzes the offers of two websites \\\n",
    "and provides a short summary for both sites, ignoring text that might be navigation related. \\\n",
    "Respond with the offers from both sites.\""
   ]
  },
  {
   "cell_type": "code",
   "execution_count": 13,
   "id": "332e509c-f35d-4523-bfe5-76c8c5b86365",
   "metadata": {},
   "outputs": [],
   "source": [
    "# A function that writes a User Prompt that asks for summaries of websites:\n",
    "\n",
    "def user_prompt_for(website1, website2):\n",
    "    user_prompt = f\"You are looking at two websites titled {website1.title}, {website2.title}\"\n",
    "\n",
    "    # 1st Website \n",
    "    user_prompt += f\"### website one: {website1.title}\\n\"\n",
    "    user_prompt += \"The contents of this website are as follows;\"\n",
    "    user_prompt += \"please provide a short summary of this website in markdown.\"\n",
    "    user_prompt += \"If it includes news or annoucements, then summarize these too.\\n\\n\"\n",
    "    user_prompt += website1.text + \"\\n\\n\"\n",
    "\n",
    "    # 2nd website\n",
    "    user_prompt += f\"### Website two: {website2.title}\\n\"\n",
    "    user_prompt += \"The contents of this website are as follow;\"\n",
    "    user_prompt += \"please provide a short summary of this websire in markdown.\"\n",
    "    user_prompt += \"If it includes news or annoucements, then summarize these too.\\n\\n\"\n",
    "    user_prompt += website2.text + \"\\n\\n\"\n",
    "\n",
    "    \n",
    "    # Compare the websites\n",
    "    user_prompt += \"Finally, compare the offers, announcements, or any relevant information \"\n",
    "    user_prompt += \"From both websites and highlight key differences and provide which option is better from the two carriers.\\n\"\n",
    "\n",
    "    return user_prompt\n",
    "    \n"
   ]
  },
  {
   "cell_type": "code",
   "execution_count": 14,
   "id": "d3ab94e1-a482-4bba-991b-b151c6954fa9",
   "metadata": {},
   "outputs": [],
   "source": [
    "# See how this function creates exactly the format above\n",
    "\n",
    "def messages_for(website1, website2):\n",
    "    return [\n",
    "        {\"role\": \"system\", \"content\": system_prompt},\n",
    "        {\"role\": \"user\", \"content\": user_prompt_for(website1, website2)}\n",
    "    ]"
   ]
  },
  {
   "cell_type": "code",
   "execution_count": 15,
   "id": "6bde05d5-38fc-41c2-bfb0-5e30cdbd80ec",
   "metadata": {},
   "outputs": [],
   "source": [
    "# And now: call the OpenAI API. You will get very familiar with this!\n",
    "\n",
    "def summarize(url1, url2):\n",
    "    website1 = Website(url1)\n",
    "    website2 = Website(url2)\n",
    "    response = ollama.chat(\n",
    "        model = \"llama3.2\",\n",
    "        messages = messages_for(website1, website2)\n",
    "    )\n",
    "    return response['message']['content']"
   ]
  },
  {
   "cell_type": "code",
   "execution_count": 16,
   "id": "6d668ba6-03e7-4ee3-abce-9ad185883124",
   "metadata": {},
   "outputs": [],
   "source": [
    "# A function to display this nicely in the Jupyter output, using markdown\n",
    "\n",
    "def displaySummary(url1, url2):\n",
    "    # Generate the combined summary for both websites\n",
    "    combined_summary = summarize(url1, url2)\n",
    "    \n",
    "    # Display the combined summary in Markdown format\n",
    "    display(Markdown(combined_summary))"
   ]
  },
  {
   "cell_type": "code",
   "execution_count": 18,
   "id": "e711fc9f-1883-423e-959f-98863514a51e",
   "metadata": {},
   "outputs": [
    {
     "data": {
      "text/markdown": [
       "After analyzing the content of both websites, I've identified some key differences between T-Mobile's website and the other carrier's website (let's assume it's Verizon). Here are some highlights:\n",
       "\n",
       "**T-Mobile Website**\n",
       "\n",
       "1. **Trade-in program**: T-Mobile has a trade-in program that allows customers to upgrade their devices and receive credit towards a new device.\n",
       "2. **Yearly Upgrade benefit**: T-Mobile offers a Yearly Upgrade benefit, which requires trading in a device that is in good condition. The carrier pays off 50% of the remaining balance on the trade-in device.\n",
       "3. **Promotions**: T-Mobile frequently runs promotions and offers discounts on certain devices.\n",
       "4. **JUMP! program**: T-Mobile's JUMP! program allows customers to upgrade their devices every year, without any additional fees.\n",
       "\n",
       "**Verizon Website**\n",
       "\n",
       "1. **Trade-in program**: Verizon has a trade-in program that also allows customers to upgrade their devices and receive credit towards a new device.\n",
       "2. **Device upgrades**: Verizon offers a variety of devices with different pricing plans and features.\n",
       "3. **JUMP Up plan**: Verizon's JUMP Up plan is similar to T-Mobile's Yearly Upgrade benefit, but it only pays off 25% of the remaining balance on the trade-in device.\n",
       "\n",
       "**Key differences**\n",
       "\n",
       "1. **Trade-in credit**: T-Mobile pays off 50% of the remaining balance on the trade-in device, while Verizon only pays off 25%.\n",
       "2. **JUMP! program**: T-Mobile's JUMP! program allows customers to upgrade their devices every year, without any additional fees. Verizon's JUMP Up plan requires customers to pay a $10 monthly fee for the first year.\n",
       "3. **Device options**: Verizon offers a wider range of devices with different pricing plans and features.\n",
       "\n",
       "**Which option is better?**\n",
       "\n",
       "Based on my analysis, T-Mobile's website appears to offer more competitive trade-in credits and a more flexible JUMP! program. The carrier also frequently runs promotions and offers discounts on certain devices. However, Verizon's website has a wider range of devices available with different pricing plans and features.\n",
       "\n",
       "Ultimately, the best option for an individual customer will depend on their specific needs and preferences. If you're looking for a flexible trade-in program and a low-cost device upgrade option, T-Mobile may be the better choice. However, if you prefer a wider range of devices and more flexibility in terms of pricing plans and features, Verizon may be the better option.\n",
       "\n",
       "Here's a summary of the key differences:\n",
       "\n",
       "**T-Mobile**\n",
       "\n",
       "* Trade-in credit: 50% off remaining balance\n",
       "* JUMP! program: Upgrade every year without additional fees\n",
       "* Promotions: Frequently run promotions and discounts on certain devices\n",
       "\n",
       "**Verizon**\n",
       "\n",
       "* Trade-in credit: 25% off remaining balance\n",
       "* JUMP Up plan: Requires $10 monthly fee for the first year\n",
       "* Device options: Wide range of devices with different pricing plans and features"
      ],
      "text/plain": [
       "<IPython.core.display.Markdown object>"
      ]
     },
     "metadata": {},
     "output_type": "display_data"
    }
   ],
   "source": [
    "displaySummary(\"https://www.verizon.com/smartphones/apple-iphone-16-pro/\",\n",
    "    \"https://www.t-mobile.com/cell-phone/apple-iphone-16-pro\"\n",
    ")"
   ]
  },
  {
   "cell_type": "code",
   "execution_count": null,
   "id": "475c33b3-22f0-44a2-868d-529364e225c7",
   "metadata": {},
   "outputs": [],
   "source": []
  }
 ],
 "metadata": {
  "kernelspec": {
   "display_name": "Python 3 (ipykernel)",
   "language": "python",
   "name": "python3"
  },
  "language_info": {
   "codemirror_mode": {
    "name": "ipython",
    "version": 3
   },
   "file_extension": ".py",
   "mimetype": "text/x-python",
   "name": "python",
   "nbconvert_exporter": "python",
   "pygments_lexer": "ipython3",
   "version": "3.11.10"
  }
 },
 "nbformat": 4,
 "nbformat_minor": 5
}
