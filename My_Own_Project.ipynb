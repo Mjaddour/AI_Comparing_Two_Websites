{
 "cells": [
  {
   "cell_type": "code",
   "execution_count": 74,
   "id": "93d4d247-5ba1-45bc-8b81-b4c459da4cca",
   "metadata": {},
   "outputs": [],
   "source": [
    "# import project\n",
    "\n",
    "import requests\n",
    "from bs4 import BeautifulSoup\n",
    "from IPython.display import Markdown, display\n",
    "import ollama\n"
   ]
  },
  {
   "cell_type": "code",
   "execution_count": 75,
   "id": "510c56af-9417-4ce1-97ff-248800e850b1",
   "metadata": {},
   "outputs": [],
   "source": [
    "MODEL = \"llama3.2\"\n",
    "\n",
    "# class for the website\n",
    "class Website:\n",
    "\n",
    "    def __init__(self, url):\n",
    "        \"\"\"\n",
    "        Create this Website object from the given url using the BeautifulSoup library\n",
    "        \"\"\"\n",
    "        self.url = url\n",
    "        response = requests.get(url)\n",
    "        soup = BeautifulSoup(response.content, 'html.parser')\n",
    "        self.title = soup.title.string if soup.title else \"No title found\"\n",
    "        for irrelevant in soup.body([\"script\", \"style\", \"img\", \"input\"]):\n",
    "            irrelevant.decompose()\n",
    "        self.text = soup.body.get_text(separator=\"\\n\", strip=True)\n",
    "        "
   ]
  },
 
  {
   "cell_type": "code",
   "execution_count": 77,
   "id": "bc8b296f-36fa-415c-a95e-e46a8f44cad6",
   "metadata": {},
   "outputs": [],
   "source": [
    "system_prompt = \"You are an assistant that analyzes the offers of two websites \\\n",
    "and provides a short summary for both sites, ignoring text that might be navigation related. \\\n",
    "Respond with the offers from both sites.\""
   ]
  },
  {
   "cell_type": "code",
   "execution_count": 78,
   "id": "332e509c-f35d-4523-bfe5-76c8c5b86365",
   "metadata": {},
   "outputs": [],
   "source": [
    "# A function that writes a User Prompt that asks for summaries of websites:\n",
    "\n",
    "def user_prompt_for(website1, website2):\n",
    "    user_prompt = f\"You are looking at two websites titled {website1.title}, {website2.title}\"\n",
    "\n",
    "    # 1st Website \n",
    "    user_prompt += f\"### website one: {website1.title}\\n\"\n",
    "    user_prompt += \"The contents of this website are as follows;\"\n",
    "    user_prompt += \"please provide a short summary of this website in markdown.\"\n",
    "    user_prompt += \"If it includes news or annoucements, then summarize these too.\\n\\n\"\n",
    "    user_prompt += website1.text + \"\\n\\n\"\n",
    "\n",
    "    # 2nd website\n",
    "    user_prompt += f\"### Website two: {website2.title}\\n\"\n",
    "    user_prompt += \"The contents of this website are as follow;\"\n",
    "    user_prompt += \"please provide a short summary of this websire in markdown.\"\n",
    "    user_prompt += \"If it includes news or annoucements, then summarize these too.\\n\\n\"\n",
    "    user_prompt += website2.text + \"\\n\\n\"\n",
    "\n",
    "    \n",
    "    # Compare the websites\n",
    "    user_prompt += \"Finally, compare the offers, announcements, or any relevant information \"\n",
    "    user_prompt += \"From both websites and highlight key differences and provide which option is better.\\n\"\n",
    "\n",
    "    return user_prompt\n",
    "    \n"
   ]
  },
  {
   "cell_type": "code",
   "execution_count": 79,
   "id": "d3ab94e1-a482-4bba-991b-b151c6954fa9",
   "metadata": {},
   "outputs": [],
   "source": [
    "# See how this function creates exactly the format above\n",
    "\n",
    "def messages_for(website1, website2):\n",
    "    return [\n",
    "        {\"role\": \"system\", \"content\": system_prompt},\n",
    "        {\"role\": \"user\", \"content\": user_prompt_for(website1, website2)}\n",
    "    ]"
   ]
  },
  {
   "cell_type": "code",
   "execution_count": 80,
   "id": "6bde05d5-38fc-41c2-bfb0-5e30cdbd80ec",
   "metadata": {},
   "outputs": [],
   "source": [
    "# And now: call the OpenAI API. You will get very familiar with this!\n",
    "\n",
    "def summarize(url1, url2):\n",
    "    website1 = Website(url1)\n",
    "    website2 = Website(url2)\n",
    "    response = ollama.chat(\n",
    "        model = \"llama3.2\",\n",
    "        messages = messages_for(website1, website2)\n",
    "    )\n",
    "    return response['message']['content']"
   ]
  },
  {
   "cell_type": "code",
   "execution_count": 81,
   "id": "6d668ba6-03e7-4ee3-abce-9ad185883124",
   "metadata": {},
   "outputs": [],
   "source": [
    "# A function to display this nicely in the Jupyter output, using markdown\n",
    "\n",
    "def displaySummary(url1, url2):\n",
    "    # Generate the combined summary for both websites\n",
    "    combined_summary = summarize(url1, url2)\n",
    "    \n",
    "    # Display the combined summary in Markdown format\n",
    "    display(Markdown(combined_summary))"
   ]
  },
  {
   "cell_type": "code",
   "execution_count": 82,
   "id": "e711fc9f-1883-423e-959f-98863514a51e",
   "metadata": {},
   "outputs": [
    {
     "data": {
      "text/markdown": [
       "After comparing the two websites from AT&T and Apple, here are the key differences:\n",
       "\n",
       "**Device Specifications**\n",
       "\n",
       "* AT&T:\n",
       "\t+ iPhone 16 Pro Max: 6.7 inches, 512GB storage\n",
       "\t+ Price: $1,099 (plus taxes and fees)\n",
       "* Apple:\n",
       "\t+ iPhone 16 Pro Max: 6.7 inches, 512GB storage\n",
       "\t+ Price: Not specified on the website\n",
       "\n",
       "**Monthly Plans**\n",
       "\n",
       "* AT&T:\n",
       "\t+ Unlimited Starter Plan: $60/month (plus taxes and fees)\n",
       "\t+ Unlimited Premium Plan: $85/month (plus taxes and fees)\n",
       "* Apple:\n",
       "\t+ No monthly plan information available on the website. However, it's likely that the iPhone 16 Pro Max will be eligible for a variety of plans, including AT&T's unlimited plans.\n",
       "\n",
       "**Promotions**\n",
       "\n",
       "* AT&T:\n",
       "\t+ Free upgrade to an iPhone 16 Pro Max every year\n",
       "\t+ $200 trade-in credit towards any new iPhone\n",
       "* Apple:\n",
       "\t+ No promotions available on the website. However, it's likely that Apple will offer some promotional pricing or discounts for the iPhone 16 Pro Max at a later date.\n",
       "\n",
       "**Additional Features**\n",
       "\n",
       "* AT&T:\n",
       "\t+ Wi-Fi Calling and FaceTime video calling over cellular or Wi-Fi\n",
       "\t+ HD Voice capable\n",
       "\t+ Face ID with TrueDepth camera\n",
       "* Apple:\n",
       "\t+ Face ID with TrueDepth camera\n",
       "\t+ Water-resistant (IP68 rating)\n",
       "\t+ Fast charging (up to 20W)\n",
       "\n",
       "**Key Differences**\n",
       "\n",
       "* AT&T offers a free upgrade to an iPhone every year, while Apple does not offer any promotional pricing or upgrades.\n",
       "* AT&T's Unlimited Premium Plan costs $85/month, while Apple does not specify the monthly plan cost for the iPhone 16 Pro Max.\n",
       "\n",
       "**Recommendation**\n",
       "\n",
       "Based on the information available on the websites, it appears that AT&T is offering a more competitive price point for the iPhone 16 Pro Max. Additionally, their free upgrade offer every year may be attractive to customers who want to stay up-to-date with the latest Apple devices. However, if you're invested in the Apple ecosystem and prefer to purchase directly from Apple, they may still be the better option.\n",
       "\n",
       "**Conclusion**\n",
       "\n",
       "If you prioritize price and flexibility, AT&T's offering for the iPhone 16 Pro Max may be the better choice. However, if you're committed to purchasing directly from Apple and value their ecosystem, you may want to wait until a promotional offer is available or consider visiting an Apple Store for more information."
      ],
      "text/plain": [
       "<IPython.core.display.Markdown object>"
      ]
     },
     "metadata": {},
     "output_type": "display_data"
    }
   ],
   "source": [
    "displaySummary(\"https://www.t-mobile.com/cell-phone/apple-iphone-16-pro-max\",\n",
    "    \"https://www.att.com/buy/phones/apple-iphone-16-pro-max.html\"\n",
    ")"
   ]
  },
  {
   "cell_type": "code",
   "execution_count": null,
   "id": "475c33b3-22f0-44a2-868d-529364e225c7",
   "metadata": {},
   "outputs": [],
   "source": []
  }
 ],
 "metadata": {
  "kernelspec": {
   "display_name": "Python 3 (ipykernel)",
   "language": "python",
   "name": "python3"
  },
  "language_info": {
   "codemirror_mode": {
    "name": "ipython",
    "version": 3
   },
   "file_extension": ".py",
   "mimetype": "text/x-python",
   "name": "python",
   "nbconvert_exporter": "python",
   "pygments_lexer": "ipython3",
   "version": "3.11.10"
  }
 },
 "nbformat": 4,
 "nbformat_minor": 5
}
