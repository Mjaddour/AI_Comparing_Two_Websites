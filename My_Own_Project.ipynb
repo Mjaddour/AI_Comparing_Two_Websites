{
 "cells": [
  {
   "cell_type": "code",
   "execution_count": 20,
   "id": "93d4d247-5ba1-45bc-8b81-b4c459da4cca",
   "metadata": {},
   "outputs": [],
   "source": [
    "# import project\n",
    "\n",
    "import requests\n",
    "from bs4 import BeautifulSoup\n",
    "from IPython.display import Markdown, display\n",
    "import ollama\n"
   ]
  },
  {
   "cell_type": "code",
   "execution_count": 21,
   "id": "510c56af-9417-4ce1-97ff-248800e850b1",
   "metadata": {},
   "outputs": [],
   "source": [
    "MODEL = \"llama3.2\"\n",
    "\n",
    "# class for the website\n",
    "class Website:\n",
    "\n",
    "    def __init__(self, url):\n",
    "        \"\"\"\n",
    "        Create this Website object from the given url using the BeautifulSoup library\n",
    "        \"\"\"\n",
    "        self.url = url\n",
    "        response = requests.get(url)\n",
    "        soup = BeautifulSoup(response.content, 'html.parser')\n",
    "        self.title = soup.title.string if soup.title else \"No title found\"\n",
    "        for irrelevant in soup.body([\"script\", \"style\", \"img\", \"input\"]):\n",
    "            irrelevant.decompose()\n",
    "        self.text = soup.body.get_text(separator=\"\\n\", strip=True)\n",
    "        "
   ]
  },
  {
   "cell_type": "code",
   "execution_count": 22,
   "id": "bc8b296f-36fa-415c-a95e-e46a8f44cad6",
   "metadata": {},
   "outputs": [],
   "source": [
    "system_prompt = \"You are an assistant that analyzes the offers of two websites \\\n",
    "and provides a short summary for both sites, ignoring text that might be navigation related. \\\n",
    "Respond with the offers from both sites.\""
   ]
  },
  {
   "cell_type": "code",
   "execution_count": 23,
   "id": "332e509c-f35d-4523-bfe5-76c8c5b86365",
   "metadata": {},
   "outputs": [],
   "source": [
    "# A function that writes a User Prompt that asks for summaries of websites:\n",
    "\n",
    "def user_prompt_for(website1, website2):\n",
    "    user_prompt = f\"You are looking at two websites titled {website1.title}, {website2.title}\"\n",
    "\n",
    "    # 1st Website \n",
    "    user_prompt += f\"### website one: {website1.title}\\n\"\n",
    "    user_prompt += \"The contents of this website are as follows;\"\n",
    "    user_prompt += \"please provide a short summary of this website in markdown.\"\n",
    "    user_prompt += \"If it includes news or annoucements, then summarize these too.\\n\\n\"\n",
    "    user_prompt += website1.text + \"\\n\\n\"\n",
    "\n",
    "    # 2nd website\n",
    "    user_prompt += f\"### Website two: {website2.title}\\n\"\n",
    "    user_prompt += \"The contents of this website are as follow;\"\n",
    "    user_prompt += \"please provide a short summary of this website in markdown.\"\n",
    "    user_prompt += \"If it includes news or annoucements, then summarize these too.\\n\\n\"\n",
    "    user_prompt += website2.text + \"\\n\\n\"\n",
    "\n",
    "    \n",
    "    # Compare the websites\n",
    "    user_prompt += \"Finally, compare the offers, announcements, or any relevant information \"\n",
    "    user_prompt += \"From both websites and highlight key differences and provide which option is better from the two carriers.\\n\"\n",
    "\n",
    "    return user_prompt\n",
    "    \n"
   ]
  },
  {
   "cell_type": "code",
   "execution_count": 24,
   "id": "d3ab94e1-a482-4bba-991b-b151c6954fa9",
   "metadata": {},
   "outputs": [],
   "source": [
    "# See how this function creates exactly the format above\n",
    "\n",
    "def messages_for(website1, website2):\n",
    "    return [\n",
    "        {\"role\": \"system\", \"content\": system_prompt},\n",
    "        {\"role\": \"user\", \"content\": user_prompt_for(website1, website2)}\n",
    "    ]"
   ]
  },
  {
   "cell_type": "code",
   "execution_count": 25,
   "id": "6bde05d5-38fc-41c2-bfb0-5e30cdbd80ec",
   "metadata": {},
   "outputs": [],
   "source": [
    "# And now: call the OpenAI API. You will get very familiar with this!\n",
    "\n",
    "def summarize(url1, url2):\n",
    "    website1 = Website(url1)\n",
    "    website2 = Website(url2)\n",
    "    response = ollama.chat(\n",
    "        model = \"llama3.2\",\n",
    "        messages = messages_for(website1, website2)\n",
    "    )\n",
    "    return response['message']['content']"
   ]
  },
  {
   "cell_type": "code",
   "execution_count": 26,
   "id": "6d668ba6-03e7-4ee3-abce-9ad185883124",
   "metadata": {},
   "outputs": [],
   "source": [
    "# A function to display this nicely in the Jupyter output, using markdown\n",
    "\n",
    "def displaySummary(url1, url2):\n",
    "    # Generate the combined summary for both websites\n",
    "    combined_summary = summarize(url1, url2)\n",
    "    \n",
    "    # Display the combined summary in Markdown format\n",
    "    display(Markdown(combined_summary))"
   ]
  },
  {
   "cell_type": "code",
   "execution_count": 28,
   "id": "e711fc9f-1883-423e-959f-98863514a51e",
   "metadata": {},
   "outputs": [
    {
     "data": {
      "text/markdown": [
       "After reviewing the content from both AT&T and T-Mobile websites, I have identified some key similarities and differences in their upgrade and trade-in policies for customers:\n",
       "\n",
       "**Similarities:**\n",
       "\n",
       "* Both carriers offer a Yearly Upgrade benefit that allows customers to trade-in their device and apply the credit towards a new device.\n",
       "* Both carriers pay off the remaining balance of the old device (50% of the original purchase price) when a customer upgrades or trades-in their device.\n",
       "\n",
       "**Differences:**\n",
       "\n",
       "1. **Eligibility:** T-Mobile's Yearly Upgrade benefit requires devices to be in good condition, while AT&T does not have such a requirement.\n",
       "2. **Trade-in Value:** AT&T offers more generous trade-in values for certain devices, while T-Mobile's trade-in value is lower for some models.\n",
       "3. **Promotions:** T-Mobile occasionally runs promotions that allow customers to pay off their EIP balance (Equipment Installment Plan) and receive additional credit towards a new device. These promotions are not available on AT&T's website.\n",
       "4. **Device Eligibility:** AT&T allows devices from all carriers to be upgraded, while T-Mobile only supports devices from AT&T.\n",
       "\n",
       "**Comparison of Offers:**\n",
       "\n",
       "* T-Mobile:\n",
       "\t+ Pay off 50% of the remaining EIP balance when trading-in a device\n",
       "\t+ No requirements for good condition or specific trade-in values\n",
       "\t+ Occasional promotions that allow customers to pay off their EIP balance and receive additional credit\n",
       "* AT&T:\n",
       "\t+ Pay off 50% of the remaining EIP balance when trading-in a device (no trade-in value requirement)\n",
       "\t+ Higher trade-in values for certain devices\n",
       "\t+ No promotions available on their website\n",
       "\n",
       "**Which Option is Better?**\n",
       "\n",
       "T-Mobile's Yearly Upgrade benefit is more flexible and offers more options for customers who want to upgrade or trade-in their device. However, the trade-in value may be lower compared to AT&T's offerings. If you're a T-Mobile customer and want to take advantage of this program, it's worth exploring their promotions and eligibility requirements.\n",
       "\n",
       "On the other hand, if you're an AT&T customer and are looking for more generous trade-in values or have devices from all carriers, AT&T may be a better option.\n",
       "\n",
       "**Recommendation:**\n",
       "\n",
       "Consider your specific needs and device choices when deciding between T-Mobile and AT&T's upgrade and trade-in policies. If you value flexibility and occasional promotions, T-Mobile might be the better choice. However, if you're looking for more generous trade-in values or want to take advantage of a wider range of devices, AT&T may be a better fit.\n",
       "\n",
       "Ultimately, it's essential to review both carriers' offers and consider your individual circumstances before making a decision."
      ],
      "text/plain": [
       "<IPython.core.display.Markdown object>"
      ]
     },
     "metadata": {},
     "output_type": "display_data"
    }
   ],
   "source": [
    "displaySummary(\"https://www.att.com/buy/phones/apple-iphone-16-pro.html\",\n",
    "    \"https://www.t-mobile.com/cell-phone/apple-iphone-16-pro\"\n",
    ")"
   ]
  },
  {
   "cell_type": "code",
   "execution_count": null,
   "id": "475c33b3-22f0-44a2-868d-529364e225c7",
   "metadata": {},
   "outputs": [],
   "source": []
  }
 ],
 "metadata": {
  "kernelspec": {
   "display_name": "Python 3 (ipykernel)",
   "language": "python",
   "name": "python3"
  },
  "language_info": {
   "codemirror_mode": {
    "name": "ipython",
    "version": 3
   },
   "file_extension": ".py",
   "mimetype": "text/x-python",
   "name": "python",
   "nbconvert_exporter": "python",
   "pygments_lexer": "ipython3",
   "version": "3.11.10"
  }
 },
 "nbformat": 4,
 "nbformat_minor": 5
}
